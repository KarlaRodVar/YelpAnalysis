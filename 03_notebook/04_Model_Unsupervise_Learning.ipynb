{
 "cells": [
  {
   "cell_type": "markdown",
   "id": "7172c7bd",
   "metadata": {},
   "source": [
    "## CUNEF\n",
    "\n",
    "### Master Universitario en Ciencia de Datos\n",
    "\n",
    "**Dep:**\n",
    "Aprendizaje Automatico\n",
    "\n",
    "**Practica 3**\\\n",
    "Yelp Analysis"
   ]
  },
  {
   "cell_type": "markdown",
   "id": "57f12fbd",
   "metadata": {},
   "source": [
    "### Case of Study:\n",
    "Create a Machine Learning Algorithm to identify possible business insigts based on different information  related to business reviews extracted from an open datasource of Yelp page."
   ]
  },
  {
   "cell_type": "markdown",
   "id": "523508a0",
   "metadata": {},
   "source": [
    "### Import the libraries that we are going to use"
   ]
  },
  {
   "cell_type": "code",
   "execution_count": 1,
   "id": "1f057913",
   "metadata": {},
   "outputs": [],
   "source": [
    "import pandas as pd\n",
    "import numpy as np\n",
    "import seaborn as sns\n",
    "from matplotlib import pyplot as plt\n",
    "\n",
    "import sklearn\n",
    "from sklearn.preprocessing import StandardScaler\n",
    "from sklearn.decomposition import PCA\n",
    "from sklearn.cluster import KMeans, DBSCAN\n",
    "from sklearn.neighbors import NearestNeighbors\n",
    "\n",
    "\n",
    "from mpl_toolkits.mplot3d import Axes3D"
   ]
  },
  {
   "cell_type": "markdown",
   "id": "b6a54ad9",
   "metadata": {},
   "source": [
    "# 1. LOADING THE DATASETS"
   ]
  },
  {
   "cell_type": "code",
   "execution_count": 2,
   "id": "a556495e",
   "metadata": {
    "scrolled": true
   },
   "outputs": [
    {
     "data": {
      "text/html": [
       "<div>\n",
       "<style scoped>\n",
       "    .dataframe tbody tr th:only-of-type {\n",
       "        vertical-align: middle;\n",
       "    }\n",
       "\n",
       "    .dataframe tbody tr th {\n",
       "        vertical-align: top;\n",
       "    }\n",
       "\n",
       "    .dataframe thead th {\n",
       "        text-align: right;\n",
       "    }\n",
       "</style>\n",
       "<table border=\"1\" class=\"dataframe\">\n",
       "  <thead>\n",
       "    <tr style=\"text-align: right;\">\n",
       "      <th></th>\n",
       "      <th>review_count</th>\n",
       "      <th>yelping_since</th>\n",
       "      <th>useful</th>\n",
       "      <th>funny</th>\n",
       "      <th>cool</th>\n",
       "      <th>fans</th>\n",
       "      <th>average_stars</th>\n",
       "      <th>compliment_hot</th>\n",
       "      <th>compliment_more</th>\n",
       "      <th>compliment_profile</th>\n",
       "      <th>compliment_cute</th>\n",
       "      <th>compliment_list</th>\n",
       "      <th>compliment_note</th>\n",
       "      <th>compliment_plain</th>\n",
       "      <th>compliment_cool</th>\n",
       "      <th>compliment_funny</th>\n",
       "      <th>compliment_writer</th>\n",
       "      <th>compliment_photos</th>\n",
       "      <th>num_friends</th>\n",
       "      <th>times_elite</th>\n",
       "    </tr>\n",
       "  </thead>\n",
       "  <tbody>\n",
       "    <tr>\n",
       "      <th>0</th>\n",
       "      <td>585</td>\n",
       "      <td>2007</td>\n",
       "      <td>7217</td>\n",
       "      <td>1259</td>\n",
       "      <td>5994</td>\n",
       "      <td>267</td>\n",
       "      <td>3.91</td>\n",
       "      <td>250</td>\n",
       "      <td>65</td>\n",
       "      <td>55</td>\n",
       "      <td>56</td>\n",
       "      <td>18</td>\n",
       "      <td>232</td>\n",
       "      <td>844</td>\n",
       "      <td>467</td>\n",
       "      <td>467</td>\n",
       "      <td>239</td>\n",
       "      <td>180</td>\n",
       "      <td>14995</td>\n",
       "      <td>1</td>\n",
       "    </tr>\n",
       "    <tr>\n",
       "      <th>1</th>\n",
       "      <td>4333</td>\n",
       "      <td>2009</td>\n",
       "      <td>43091</td>\n",
       "      <td>13066</td>\n",
       "      <td>27281</td>\n",
       "      <td>3138</td>\n",
       "      <td>3.74</td>\n",
       "      <td>1145</td>\n",
       "      <td>264</td>\n",
       "      <td>184</td>\n",
       "      <td>157</td>\n",
       "      <td>251</td>\n",
       "      <td>1847</td>\n",
       "      <td>7054</td>\n",
       "      <td>3131</td>\n",
       "      <td>3131</td>\n",
       "      <td>1521</td>\n",
       "      <td>1946</td>\n",
       "      <td>4646</td>\n",
       "      <td>14</td>\n",
       "    </tr>\n",
       "    <tr>\n",
       "      <th>2</th>\n",
       "      <td>665</td>\n",
       "      <td>2008</td>\n",
       "      <td>2086</td>\n",
       "      <td>1010</td>\n",
       "      <td>1003</td>\n",
       "      <td>52</td>\n",
       "      <td>3.32</td>\n",
       "      <td>89</td>\n",
       "      <td>13</td>\n",
       "      <td>10</td>\n",
       "      <td>17</td>\n",
       "      <td>3</td>\n",
       "      <td>66</td>\n",
       "      <td>96</td>\n",
       "      <td>119</td>\n",
       "      <td>119</td>\n",
       "      <td>35</td>\n",
       "      <td>18</td>\n",
       "      <td>381</td>\n",
       "      <td>5</td>\n",
       "    </tr>\n",
       "    <tr>\n",
       "      <th>3</th>\n",
       "      <td>224</td>\n",
       "      <td>2005</td>\n",
       "      <td>512</td>\n",
       "      <td>330</td>\n",
       "      <td>299</td>\n",
       "      <td>28</td>\n",
       "      <td>4.27</td>\n",
       "      <td>24</td>\n",
       "      <td>4</td>\n",
       "      <td>1</td>\n",
       "      <td>6</td>\n",
       "      <td>2</td>\n",
       "      <td>12</td>\n",
       "      <td>16</td>\n",
       "      <td>26</td>\n",
       "      <td>26</td>\n",
       "      <td>10</td>\n",
       "      <td>9</td>\n",
       "      <td>131</td>\n",
       "      <td>3</td>\n",
       "    </tr>\n",
       "    <tr>\n",
       "      <th>4</th>\n",
       "      <td>79</td>\n",
       "      <td>2007</td>\n",
       "      <td>29</td>\n",
       "      <td>15</td>\n",
       "      <td>7</td>\n",
       "      <td>1</td>\n",
       "      <td>3.54</td>\n",
       "      <td>1</td>\n",
       "      <td>1</td>\n",
       "      <td>0</td>\n",
       "      <td>0</td>\n",
       "      <td>0</td>\n",
       "      <td>1</td>\n",
       "      <td>1</td>\n",
       "      <td>0</td>\n",
       "      <td>0</td>\n",
       "      <td>0</td>\n",
       "      <td>0</td>\n",
       "      <td>27</td>\n",
       "      <td>0</td>\n",
       "    </tr>\n",
       "    <tr>\n",
       "      <th>5</th>\n",
       "      <td>1221</td>\n",
       "      <td>2005</td>\n",
       "      <td>14953</td>\n",
       "      <td>9940</td>\n",
       "      <td>11211</td>\n",
       "      <td>1357</td>\n",
       "      <td>3.85</td>\n",
       "      <td>1713</td>\n",
       "      <td>163</td>\n",
       "      <td>191</td>\n",
       "      <td>361</td>\n",
       "      <td>147</td>\n",
       "      <td>1212</td>\n",
       "      <td>5696</td>\n",
       "      <td>2543</td>\n",
       "      <td>2543</td>\n",
       "      <td>815</td>\n",
       "      <td>323</td>\n",
       "      <td>5843</td>\n",
       "      <td>9</td>\n",
       "    </tr>\n",
       "    <tr>\n",
       "      <th>6</th>\n",
       "      <td>12</td>\n",
       "      <td>2009</td>\n",
       "      <td>6</td>\n",
       "      <td>1</td>\n",
       "      <td>0</td>\n",
       "      <td>1</td>\n",
       "      <td>2.75</td>\n",
       "      <td>0</td>\n",
       "      <td>0</td>\n",
       "      <td>0</td>\n",
       "      <td>0</td>\n",
       "      <td>0</td>\n",
       "      <td>0</td>\n",
       "      <td>1</td>\n",
       "      <td>0</td>\n",
       "      <td>0</td>\n",
       "      <td>0</td>\n",
       "      <td>0</td>\n",
       "      <td>23</td>\n",
       "      <td>0</td>\n",
       "    </tr>\n",
       "    <tr>\n",
       "      <th>7</th>\n",
       "      <td>358</td>\n",
       "      <td>2008</td>\n",
       "      <td>399</td>\n",
       "      <td>102</td>\n",
       "      <td>143</td>\n",
       "      <td>23</td>\n",
       "      <td>3.73</td>\n",
       "      <td>4</td>\n",
       "      <td>7</td>\n",
       "      <td>2</td>\n",
       "      <td>0</td>\n",
       "      <td>0</td>\n",
       "      <td>8</td>\n",
       "      <td>6</td>\n",
       "      <td>12</td>\n",
       "      <td>12</td>\n",
       "      <td>5</td>\n",
       "      <td>0</td>\n",
       "      <td>82</td>\n",
       "      <td>0</td>\n",
       "    </tr>\n",
       "    <tr>\n",
       "      <th>8</th>\n",
       "      <td>40</td>\n",
       "      <td>2008</td>\n",
       "      <td>109</td>\n",
       "      <td>40</td>\n",
       "      <td>46</td>\n",
       "      <td>7</td>\n",
       "      <td>4.04</td>\n",
       "      <td>2</td>\n",
       "      <td>0</td>\n",
       "      <td>0</td>\n",
       "      <td>3</td>\n",
       "      <td>0</td>\n",
       "      <td>3</td>\n",
       "      <td>4</td>\n",
       "      <td>5</td>\n",
       "      <td>5</td>\n",
       "      <td>3</td>\n",
       "      <td>1</td>\n",
       "      <td>488</td>\n",
       "      <td>0</td>\n",
       "    </tr>\n",
       "    <tr>\n",
       "      <th>9</th>\n",
       "      <td>109</td>\n",
       "      <td>2010</td>\n",
       "      <td>154</td>\n",
       "      <td>20</td>\n",
       "      <td>23</td>\n",
       "      <td>4</td>\n",
       "      <td>3.40</td>\n",
       "      <td>0</td>\n",
       "      <td>0</td>\n",
       "      <td>0</td>\n",
       "      <td>0</td>\n",
       "      <td>0</td>\n",
       "      <td>1</td>\n",
       "      <td>6</td>\n",
       "      <td>3</td>\n",
       "      <td>3</td>\n",
       "      <td>0</td>\n",
       "      <td>0</td>\n",
       "      <td>64</td>\n",
       "      <td>0</td>\n",
       "    </tr>\n",
       "  </tbody>\n",
       "</table>\n",
       "</div>"
      ],
      "text/plain": [
       "   review_count  yelping_since  useful  funny   cool  fans  average_stars  \\\n",
       "0           585           2007    7217   1259   5994   267           3.91   \n",
       "1          4333           2009   43091  13066  27281  3138           3.74   \n",
       "2           665           2008    2086   1010   1003    52           3.32   \n",
       "3           224           2005     512    330    299    28           4.27   \n",
       "4            79           2007      29     15      7     1           3.54   \n",
       "5          1221           2005   14953   9940  11211  1357           3.85   \n",
       "6            12           2009       6      1      0     1           2.75   \n",
       "7           358           2008     399    102    143    23           3.73   \n",
       "8            40           2008     109     40     46     7           4.04   \n",
       "9           109           2010     154     20     23     4           3.40   \n",
       "\n",
       "   compliment_hot  compliment_more  compliment_profile  compliment_cute  \\\n",
       "0             250               65                  55               56   \n",
       "1            1145              264                 184              157   \n",
       "2              89               13                  10               17   \n",
       "3              24                4                   1                6   \n",
       "4               1                1                   0                0   \n",
       "5            1713              163                 191              361   \n",
       "6               0                0                   0                0   \n",
       "7               4                7                   2                0   \n",
       "8               2                0                   0                3   \n",
       "9               0                0                   0                0   \n",
       "\n",
       "   compliment_list  compliment_note  compliment_plain  compliment_cool  \\\n",
       "0               18              232               844              467   \n",
       "1              251             1847              7054             3131   \n",
       "2                3               66                96              119   \n",
       "3                2               12                16               26   \n",
       "4                0                1                 1                0   \n",
       "5              147             1212              5696             2543   \n",
       "6                0                0                 1                0   \n",
       "7                0                8                 6               12   \n",
       "8                0                3                 4                5   \n",
       "9                0                1                 6                3   \n",
       "\n",
       "   compliment_funny  compliment_writer  compliment_photos  num_friends  \\\n",
       "0               467                239                180        14995   \n",
       "1              3131               1521               1946         4646   \n",
       "2               119                 35                 18          381   \n",
       "3                26                 10                  9          131   \n",
       "4                 0                  0                  0           27   \n",
       "5              2543                815                323         5843   \n",
       "6                 0                  0                  0           23   \n",
       "7                12                  5                  0           82   \n",
       "8                 5                  3                  1          488   \n",
       "9                 3                  0                  0           64   \n",
       "\n",
       "   times_elite  \n",
       "0            1  \n",
       "1           14  \n",
       "2            5  \n",
       "3            3  \n",
       "4            0  \n",
       "5            9  \n",
       "6            0  \n",
       "7            0  \n",
       "8            0  \n",
       "9            0  "
      ]
     },
     "execution_count": 2,
     "metadata": {},
     "output_type": "execute_result"
    }
   ],
   "source": [
    "df_user=pd.read_parquet('../00_data/01_process/user_info_data.parquet')\n",
    "df_user.head(10)"
   ]
  },
  {
   "cell_type": "markdown",
   "id": "445d44bc",
   "metadata": {},
   "source": [
    "# 2. Pre Processing (Previous steps to modeling)"
   ]
  },
  {
   "cell_type": "code",
   "execution_count": 3,
   "id": "3ac68702",
   "metadata": {},
   "outputs": [],
   "source": [
    "# We are gointo to save the column names for future use\n",
    "label_columns=df_user.columns"
   ]
  },
  {
   "cell_type": "markdown",
   "id": "3b627f20",
   "metadata": {},
   "source": [
    "* First thing we are going to do is to scale the data because the cluster algoritms works better when data is scaled"
   ]
  },
  {
   "cell_type": "code",
   "execution_count": 4,
   "id": "32bd7aa1",
   "metadata": {},
   "outputs": [],
   "source": [
    "# Create the scale model\n",
    "scaler=StandardScaler()\n",
    "df_user_scale=scaler.fit_transform(df_user[df_user.columns])"
   ]
  },
  {
   "cell_type": "markdown",
   "id": "2029d894",
   "metadata": {},
   "source": [
    "* The clusterings work better when there are less features to examinate, so we are going to execute a PCA to reduce the number of features or components. To do this, first we are going to identify how many components represents the majority of our data features."
   ]
  },
  {
   "cell_type": "code",
   "execution_count": 5,
   "id": "1659bc13",
   "metadata": {},
   "outputs": [],
   "source": [
    "pca = PCA()\n",
    "pca.fit(df_user_scale)\n",
    "exp_var_pca = pca.explained_variance_ratio_ #return the variance that explains each feature\n",
    "cum_sum_eigenvalues = np.cumsum(exp_var_pca) #return the cumulative sum of the elements along a given axis."
   ]
  },
  {
   "cell_type": "code",
   "execution_count": 6,
   "id": "bbdc7961",
   "metadata": {},
   "outputs": [
    {
     "data": {
      "image/png": "[encoded data removed]",
      "text/plain": [
       "<Figure size 960x480 with 1 Axes>"
      ]
     },
     "metadata": {},
     "output_type": "display_data"
    }
   ],
   "source": [
    "# We are going to graphic the eigenvalues to identify the number of components that best describe the dataframe\n",
    "\n",
    "threshold = 0.75\n",
    "plt.figure(figsize=(12, 6), dpi=80)\n",
    "plt.bar(range(0,len(exp_var_pca)), exp_var_pca, alpha=0.5, align='center', label='Individual explained variance')\n",
    "plt.step(range(0,len(cum_sum_eigenvalues)), cum_sum_eigenvalues, where='mid',label='Cumulative explained variance')\n",
    "plt.axhline(y=threshold, color='r', linestyle='-')\n",
    "\n",
    "plt.ylabel('Explained variance ratio')\n",
    "plt.xlabel('Principal component index')\n",
    "plt.legend(loc='best')\n",
    "plt.tight_layout()\n",
    "\n",
    "plt.show()"
   ]
  },
  {
   "cell_type": "markdown",
   "id": "dbeff744",
   "metadata": {},
   "source": [
    "- Based on the cumulative PCA analysis, if we want to take into consideration the **75% of explainability from the data we should have 3 components** or variables into consideration when doing the PCA."
   ]
  },
  {
   "cell_type": "markdown",
   "id": "5317ed25",
   "metadata": {},
   "source": [
    "#### Execute the PCA with 3 components"
   ]
  },
  {
   "cell_type": "code",
   "execution_count": 7,
   "id": "3f5831fc",
   "metadata": {},
   "outputs": [],
   "source": [
    "pca = PCA(n_components=3)\n",
    "df_user_3 = pca.fit_transform(df_user_scale)"
   ]
  },
  {
   "cell_type": "code",
   "execution_count": 8,
   "id": "773feb9d",
   "metadata": {},
   "outputs": [],
   "source": [
    "df_user_3=pd.DataFrame(df_user_3)\n",
    "df_user_3.columns=(['PC1','PC2','PC3'])"
   ]
  },
  {
   "cell_type": "code",
   "execution_count": 9,
   "id": "ce5701f5",
   "metadata": {
    "scrolled": true
   },
   "outputs": [
    {
     "data": {
      "image/png": "[encoded data removed]",
      "text/plain": [
       "<Figure size 640x480 with 1 Axes>"
      ]
     },
     "metadata": {},
     "output_type": "display_data"
    }
   ],
   "source": [
    "# Define scaled features as arrays\n",
    "xdata = df_user_3['PC1']\n",
    "ydata = df_user_3['PC2']\n",
    "zdata = df_user_3['PC3']\n",
    " \n",
    "# Initialize the 3D graph\n",
    "fig = plt.figure()\n",
    "ax = fig.add_subplot(111, projection='3d')\n",
    " \n",
    "# Plot 3D scatterplot of PCA\n",
    "ax.scatter3D(\n",
    "    xdata, \n",
    "    ydata, \n",
    "    zdata, \n",
    "    c=zdata, \n",
    "    cmap='Greens', \n",
    "    alpha=0.5)\n",
    " \n",
    "# Define the x, y, z variables\n",
    "loadings = pca.components_\n",
    "xs = loadings[0]\n",
    "ys = loadings[1]\n",
    "zs = loadings[2]\n",
    " \n",
    "# Plot the loadings\n",
    "for i, varnames in enumerate(df_user_3.columns):\n",
    "    ax.scatter(xs[i], ys[i], zs[i], s=200)\n",
    "    ax.text(\n",
    "        xs[i] + 0.1, \n",
    "        ys[i] + 0.1, \n",
    "        zs[i] + 0.1, \n",
    "        varnames)\n",
    " \n",
    "# Plot the arrows\n",
    "x_arr = np.zeros(len(loadings[0]))\n",
    "y_arr = z_arr = x_arr\n",
    "ax.quiver(x_arr, y_arr, z_arr, xs, ys, zs)\n",
    " \n",
    "# # Plot title of graph\n",
    "plt.title(f'3D Biplot of Iris')\n",
    " \n",
    "# # Plot x, y, z labels\n",
    "ax.set_xlabel('Principal component 1', rotation=150)\n",
    "ax.set_ylabel('Principal component 2')\n",
    "ax.set_zlabel('Principal component 3', rotation=60)\n",
    " \n",
    "plt.show()"
   ]
  },
  {
   "cell_type": "markdown",
   "id": "1c5931e3",
   "metadata": {},
   "source": [
    "We can see that there is an outlier in the original dataset. As the K-mean is ssensitive to outliers we are going to remove the outlier and execute."
   ]
  },
  {
   "cell_type": "markdown",
   "id": "131eaf29",
   "metadata": {},
   "source": [
    "### Conclusion"
   ]
  },
  {
   "cell_type": "markdown",
   "id": "92faaaf9",
   "metadata": {},
   "source": [
    "* As we can see in the 3D graph, there is an outlier in our data. Because the K-mean is not good with outliers it is better to execute a DBSCAN that relies on difference in density and it is not suceptible to outliers. However we are going to do both and see the difference between both"
   ]
  },
  {
   "cell_type": "markdown",
   "id": "13267502",
   "metadata": {},
   "source": [
    "# Understanding the each component in the PCA"
   ]
  },
  {
   "cell_type": "code",
   "execution_count": 24,
   "id": "b065f072",
   "metadata": {
    "scrolled": true
   },
   "outputs": [
    {
     "data": {
      "image/png": "[encoded data removed]",
      "text/plain": [
       "<Figure size 400x400 with 1 Axes>"
      ]
     },
     "metadata": {},
     "output_type": "display_data"
    }
   ],
   "source": [
    "loadings=pca.components_\n",
    "pca_explain_0=pd.DataFrame(loadings[0]).transpose()\n",
    "pca_explain_0.columns=df_user.columns\n",
    "\n",
    "plt.subplots(figsize=(4, 4))\n",
    "sns.barplot(data=pca_explain_0, palette=\"crest\")\n",
    "plt.xticks(rotation=90)\n",
    "plt.tight_layout()"
   ]
  },
  {
   "cell_type": "code",
   "execution_count": 26,
   "id": "8a453a49",
   "metadata": {},
   "outputs": [
    {
     "data": {
      "image/png": "[encoded data removed]",
      "text/plain": [
       "<Figure size 400x400 with 1 Axes>"
      ]
     },
     "metadata": {},
     "output_type": "display_data"
    }
   ],
   "source": [
    "pca_explain_1=pd.DataFrame(loadings[1]).transpose()\n",
    "pca_explain_1.columns=df_user.columns\n",
    "\n",
    "plt.subplots(figsize=(4, 4))\n",
    "sns.barplot(data=pca_explain_1, palette=\"crest\")\n",
    "plt.xticks(rotation=90)\n",
    "plt.tight_layout()"
   ]
  },
  {
   "cell_type": "code",
   "execution_count": 25,
   "id": "ba69c336",
   "metadata": {},
   "outputs": [
    {
     "data": {
      "image/png": "[encoded data removed]",
      "text/plain": [
       "<Figure size 400x400 with 1 Axes>"
      ]
     },
     "metadata": {},
     "output_type": "display_data"
    }
   ],
   "source": [
    "pca_explain_2=pd.DataFrame(loadings[2]).transpose()\n",
    "pca_explain_2.columns=df_user.columns\n",
    "\n",
    "plt.subplots(figsize=(4, 4))\n",
    "sns.barplot(data=pca_explain_2, palette=\"crest\")\n",
    "plt.xticks(rotation=90)\n",
    "plt.tight_layout()"
   ]
  },
  {
   "cell_type": "markdown",
   "id": "4425e04b",
   "metadata": {},
   "source": [
    "If we want to understand the PCA components we can see the eigenvalues and how much impact each feature have on them:\n",
    "\n",
    "* **PCA0** - The main features that have an impact in this component are the compliments of the their friends, primarly th cool, funny, writer amd photos compliments assign to the users.\n",
    "* **PAC1** - For this component, the features that have an important role are the useful, funny and cool classification of the reviews.\n",
    "* **PCA2** - For this component, what has more relevance is the amount of reviews that the user gives and the number of times that particular user was elite."
   ]
  },
  {
   "cell_type": "markdown",
   "id": "53dda30e",
   "metadata": {},
   "source": [
    "# 3. K means clustering"
   ]
  },
  {
   "cell_type": "markdown",
   "id": "56b61c7a",
   "metadata": {},
   "source": [
    "#### 3.1 Identify the num of clusters and execute the model"
   ]
  },
  {
   "cell_type": "markdown",
   "id": "fa649973",
   "metadata": {},
   "source": [
    "The first thing to do is to determinate the number of cluster that we want to separate the bataset of yelp users"
   ]
  },
  {
   "cell_type": "code",
   "execution_count": 10,
   "id": "8d5389bf",
   "metadata": {},
   "outputs": [
    {
     "data": {
      "image/png": "[encoded data removed]",
      "text/plain": [
       "<Figure size 600x600 with 1 Axes>"
      ]
     },
     "metadata": {},
     "output_type": "display_data"
    }
   ],
   "source": [
    "sse = []\n",
    "list_k = list(range(1, 10))\n",
    "\n",
    "for k in list_k:\n",
    "    km = KMeans(n_clusters=k)\n",
    "    km.fit(df_user_3)\n",
    "    sse.append(km.inertia_)\n",
    "\n",
    "# Plot sse against k\n",
    "plt.figure(figsize=(6, 6))\n",
    "plt.plot(list_k, sse, '-o')\n",
    "plt.xlabel(r'Number of clusters *k*')\n",
    "plt.ylabel('Sum of squared distance');"
   ]
  },
  {
   "cell_type": "markdown",
   "id": "f7f76207",
   "metadata": {},
   "source": [
    "- At 4 clusters we can see that the slope starts to decrease so base on this and the changes of values are not that high, therefore **we are going to take into consideration 4 clusters for the K-mean analysis**. This will divide the different types of users in 4 big group to represent the different types of users that use the yelp platform."
   ]
  },
  {
   "cell_type": "code",
   "execution_count": 12,
   "id": "e2575594",
   "metadata": {},
   "outputs": [],
   "source": [
    "# Execute the kmeans for our scaled and reduce dataset\n",
    "k_clf = KMeans(n_clusters = 4, random_state = 33)\n",
    "k_clf.fit(df_user_3)\n",
    "pd_final_cluster = pd.DataFrame(k_clf.predict(df_user_3)) # In here we are predicting the types of clients and pass as Df\n",
    "pd_final_cluster.columns = ['cluster'] \n",
    "\n",
    "# Combine the classifications of the clients to the original dataset in order to understan each customer behaviur\n",
    "df_user_class = pd.concat([pd_final_cluster, df_user],axis=1)"
   ]
  },
  {
   "cell_type": "markdown",
   "id": "77d4cd48",
   "metadata": {},
   "source": [
    "# 4. DBSCAN Clustering"
   ]
  },
  {
   "cell_type": "markdown",
   "id": "650d23db",
   "metadata": {},
   "source": [
    "As we can see from the k-mean analysis, the 99% of the classification  was in just 1 category. We are going to execute a DBSCAN cluster method to remove any issue that can contain outliers or points that are segregated from the avergae points."
   ]
  },
  {
   "cell_type": "markdown",
   "id": "d290070d",
   "metadata": {},
   "source": [
    "## 4.1 Base Model"
   ]
  },
  {
   "cell_type": "code",
   "execution_count": 16,
   "id": "2e520519",
   "metadata": {},
   "outputs": [
    {
     "data": {
      "text/plain": [
       "(50000, 3)"
      ]
     },
     "execution_count": 16,
     "metadata": {},
     "output_type": "execute_result"
    }
   ],
   "source": [
    "df_user_3=pd.DataFrame(df_user_3).iloc[0:50000]\n",
    "df_user_3.shape"
   ]
  },
  {
   "cell_type": "code",
   "execution_count": 17,
   "id": "5363de26",
   "metadata": {},
   "outputs": [
    {
     "data": {
      "text/plain": [
       " 0     48584\n",
       "-1      1307\n",
       " 1        21\n",
       " 4        13\n",
       " 3         9\n",
       " 5         8\n",
       " 9         7\n",
       " 8         7\n",
       " 7         7\n",
       " 12        5\n",
       " 14        5\n",
       " 2         5\n",
       " 10        5\n",
       " 13        5\n",
       " 6         4\n",
       " 11        4\n",
       " 15        4\n",
       "Name: clusters, dtype: int64"
      ]
     },
     "execution_count": 17,
     "metadata": {},
     "output_type": "execute_result"
    }
   ],
   "source": [
    "clusterer = DBSCAN() # los parámetros del algoritmo por defecto son:\n",
    "\n",
    "data = clusterer.fit_predict(df_user_3)\n",
    "data=pd.DataFrame(data,columns=['clusters'])\n",
    "data['clusters'].value_counts()"
   ]
  },
  {
   "cell_type": "markdown",
   "id": "24fb0ae0",
   "metadata": {},
   "source": [
    "**Insights:**\n",
    "\n",
    "With the DBSCAN without adjustment we can see that there are 15 different classifications of the differents types of user. We said 15 because what is identify as group class -1 is in fact what the DBSCAN identified as noise.\n",
    "\n",
    "We are going to adjust the hyperparameters of the DBSCAN model to see how the different classifications of users chaged."
   ]
  },
  {
   "cell_type": "markdown",
   "id": "f71b12b0",
   "metadata": {},
   "source": [
    "## 4.2 Hyperparameters Adjustment"
   ]
  },
  {
   "cell_type": "markdown",
   "id": "541944e2",
   "metadata": {},
   "source": [
    "The hyperparameters that need to be tuned in the DBSCAN are epsilon (which is the maximun distance between the points) and the minimun sample (that is the minimun number of points to be consider a core point or a cluster).\n",
    "\n",
    "We are going to use the technique of the KNN to determinate epsilon."
   ]
  },
  {
   "cell_type": "code",
   "execution_count": 18,
   "id": "925a8c98",
   "metadata": {},
   "outputs": [
    {
     "data": {
      "text/plain": [
       "(50000, 20)"
      ]
     },
     "execution_count": 18,
     "metadata": {},
     "output_type": "execute_result"
    }
   ],
   "source": [
    "# Decrease the size of the dataset to be able to work with it\n",
    "df_user_scale=pd.DataFrame(df_user_scale)\n",
    "df_user_scale=df_user_scale.iloc[0:50000]\n",
    "df_user_scale.columns=label_columns\n",
    "df_user_scale.shape"
   ]
  },
  {
   "cell_type": "markdown",
   "id": "64aaf510",
   "metadata": {},
   "source": [
    "#### Identifying the best minimun sample"
   ]
  },
  {
   "cell_type": "markdown",
   "id": "cb7b1ea1",
   "metadata": {},
   "source": [
    "- We are going to take as the **minumun sample number 20** as this is the number of features that we have in our dataset."
   ]
  },
  {
   "cell_type": "markdown",
   "id": "6e7fe7f9",
   "metadata": {},
   "source": [
    "#### Identifying the best epsilon"
   ]
  },
  {
   "cell_type": "code",
   "execution_count": 19,
   "id": "1ea7775c",
   "metadata": {},
   "outputs": [
    {
     "data": {
      "image/png": "[encoded data removed]",
      "text/plain": [
       "<Figure size 500x500 with 1 Axes>"
      ]
     },
     "metadata": {},
     "output_type": "display_data"
    }
   ],
   "source": [
    "# We zoom the specific area where the elbow starts to form to identify the optimal number of epsilon\n",
    "nearest_neighbors = NearestNeighbors(n_neighbors=20)\n",
    "neighbors = nearest_neighbors.fit(df_user_scale)\n",
    "distances, indices = neighbors.kneighbors(df_user_scale)\n",
    "distances\n",
    "distances = np.sort(distances[:,1], axis=0)\n",
    "fig = plt.figure(figsize=(5, 5))\n",
    "plt.plot(distances)\n",
    "plt.gca().set_xlim(44000, 49000)\n",
    "plt.gca().set_ylim(0, 2)\n",
    "plt.xlabel(\"Points\")\n",
    "plt.ylabel(\"Distance\")\n",
    "plt.savefig(\"Distance_curve.png\", dpi=300)"
   ]
  },
  {
   "cell_type": "markdown",
   "id": "f7653346",
   "metadata": {},
   "source": [
    "* Based on the elbow curve executed, we are going to take an **epsilon of 1** as the distances of the different points"
   ]
  },
  {
   "cell_type": "code",
   "execution_count": 20,
   "id": "c18af679",
   "metadata": {},
   "outputs": [
    {
     "data": {
      "text/plain": [
       " 0    44716\n",
       "-1     5102\n",
       " 1      182\n",
       "Name: clusters, dtype: int64"
      ]
     },
     "execution_count": 20,
     "metadata": {},
     "output_type": "execute_result"
    }
   ],
   "source": [
    "# Crete the new DBSCAN with the correct hyperparameters\n",
    "clusterer = DBSCAN(eps=1, min_samples=20) # los parámetros del algoritmo por defecto son:\n",
    "\n",
    "# Train the data and identify the new clusters of users\n",
    "data = clusterer.fit_predict(df_user_scale)\n",
    "data=pd.DataFrame(data,columns=['clusters'])\n",
    "data['clusters'].value_counts()"
   ]
  },
  {
   "cell_type": "markdown",
   "id": "45c47d16",
   "metadata": {},
   "source": [
    "### Conclusion:"
   ]
  },
  {
   "cell_type": "markdown",
   "id": "993433c6",
   "metadata": {},
   "source": [
    "We can see that with the DBSCAN there are only 2 different categories of users. This is because of the amount of noise in the dataset and the separation of the clusters that this results show as conclusion. The negative class represents noise on the data."
   ]
  },
  {
   "cell_type": "markdown",
   "id": "734ff853",
   "metadata": {},
   "source": [
    "# 5. Evaluation of each user classification"
   ]
  },
  {
   "cell_type": "code",
   "execution_count": 21,
   "id": "12be0d09",
   "metadata": {},
   "outputs": [],
   "source": [
    "df_final=df_user[0:50000]\n",
    "df_final=pd.concat([df_final, data],axis=1)"
   ]
  },
  {
   "cell_type": "markdown",
   "id": "e6e4598e",
   "metadata": {},
   "source": [
    "#### Evaluation of class 0 type of users"
   ]
  },
  {
   "cell_type": "code",
   "execution_count": 22,
   "id": "a5f527cb",
   "metadata": {},
   "outputs": [
    {
     "data": {
      "text/html": [
       "<div>\n",
       "<style scoped>\n",
       "    .dataframe tbody tr th:only-of-type {\n",
       "        vertical-align: middle;\n",
       "    }\n",
       "\n",
       "    .dataframe tbody tr th {\n",
       "        vertical-align: top;\n",
       "    }\n",
       "\n",
       "    .dataframe thead th {\n",
       "        text-align: right;\n",
       "    }\n",
       "</style>\n",
       "<table border=\"1\" class=\"dataframe\">\n",
       "  <thead>\n",
       "    <tr style=\"text-align: right;\">\n",
       "      <th></th>\n",
       "      <th>review_count</th>\n",
       "      <th>yelping_since</th>\n",
       "      <th>useful</th>\n",
       "      <th>funny</th>\n",
       "      <th>cool</th>\n",
       "      <th>fans</th>\n",
       "      <th>average_stars</th>\n",
       "      <th>compliment_hot</th>\n",
       "      <th>compliment_more</th>\n",
       "      <th>compliment_profile</th>\n",
       "      <th>...</th>\n",
       "      <th>compliment_list</th>\n",
       "      <th>compliment_note</th>\n",
       "      <th>compliment_plain</th>\n",
       "      <th>compliment_cool</th>\n",
       "      <th>compliment_funny</th>\n",
       "      <th>compliment_writer</th>\n",
       "      <th>compliment_photos</th>\n",
       "      <th>num_friends</th>\n",
       "      <th>times_elite</th>\n",
       "      <th>clusters</th>\n",
       "    </tr>\n",
       "  </thead>\n",
       "  <tbody>\n",
       "    <tr>\n",
       "      <th>count</th>\n",
       "      <td>44716.000000</td>\n",
       "      <td>44716.000000</td>\n",
       "      <td>44716.000000</td>\n",
       "      <td>44716.000000</td>\n",
       "      <td>44716.000000</td>\n",
       "      <td>44716.000000</td>\n",
       "      <td>44716.000000</td>\n",
       "      <td>44716.000000</td>\n",
       "      <td>44716.000000</td>\n",
       "      <td>44716.000000</td>\n",
       "      <td>...</td>\n",
       "      <td>44716.000000</td>\n",
       "      <td>44716.000000</td>\n",
       "      <td>44716.000000</td>\n",
       "      <td>44716.000000</td>\n",
       "      <td>44716.000000</td>\n",
       "      <td>44716.000000</td>\n",
       "      <td>44716.000000</td>\n",
       "      <td>44716.000000</td>\n",
       "      <td>44716.000000</td>\n",
       "      <td>44716.0</td>\n",
       "    </tr>\n",
       "    <tr>\n",
       "      <th>mean</th>\n",
       "      <td>44.073307</td>\n",
       "      <td>2012.007223</td>\n",
       "      <td>52.202321</td>\n",
       "      <td>14.206727</td>\n",
       "      <td>17.860810</td>\n",
       "      <td>1.895451</td>\n",
       "      <td>3.848508</td>\n",
       "      <td>0.809688</td>\n",
       "      <td>0.385634</td>\n",
       "      <td>0.106181</td>\n",
       "      <td>...</td>\n",
       "      <td>0.020731</td>\n",
       "      <td>1.277865</td>\n",
       "      <td>1.571317</td>\n",
       "      <td>1.468557</td>\n",
       "      <td>1.468557</td>\n",
       "      <td>0.882413</td>\n",
       "      <td>0.337351</td>\n",
       "      <td>89.667971</td>\n",
       "      <td>0.331112</td>\n",
       "      <td>0.0</td>\n",
       "    </tr>\n",
       "    <tr>\n",
       "      <th>std</th>\n",
       "      <td>57.080594</td>\n",
       "      <td>2.468963</td>\n",
       "      <td>80.420490</td>\n",
       "      <td>28.535983</td>\n",
       "      <td>32.840054</td>\n",
       "      <td>3.303982</td>\n",
       "      <td>0.709056</td>\n",
       "      <td>2.535749</td>\n",
       "      <td>0.930843</td>\n",
       "      <td>0.411287</td>\n",
       "      <td>...</td>\n",
       "      <td>0.188912</td>\n",
       "      <td>2.777630</td>\n",
       "      <td>3.709125</td>\n",
       "      <td>3.764833</td>\n",
       "      <td>3.764833</td>\n",
       "      <td>2.311810</td>\n",
       "      <td>1.232223</td>\n",
       "      <td>127.620606</td>\n",
       "      <td>1.044996</td>\n",
       "      <td>0.0</td>\n",
       "    </tr>\n",
       "    <tr>\n",
       "      <th>min</th>\n",
       "      <td>1.000000</td>\n",
       "      <td>2004.000000</td>\n",
       "      <td>0.000000</td>\n",
       "      <td>0.000000</td>\n",
       "      <td>0.000000</td>\n",
       "      <td>0.000000</td>\n",
       "      <td>1.000000</td>\n",
       "      <td>0.000000</td>\n",
       "      <td>0.000000</td>\n",
       "      <td>0.000000</td>\n",
       "      <td>...</td>\n",
       "      <td>0.000000</td>\n",
       "      <td>0.000000</td>\n",
       "      <td>0.000000</td>\n",
       "      <td>0.000000</td>\n",
       "      <td>0.000000</td>\n",
       "      <td>0.000000</td>\n",
       "      <td>0.000000</td>\n",
       "      <td>1.000000</td>\n",
       "      <td>0.000000</td>\n",
       "      <td>0.0</td>\n",
       "    </tr>\n",
       "    <tr>\n",
       "      <th>25%</th>\n",
       "      <td>9.000000</td>\n",
       "      <td>2010.000000</td>\n",
       "      <td>6.000000</td>\n",
       "      <td>1.000000</td>\n",
       "      <td>1.000000</td>\n",
       "      <td>0.000000</td>\n",
       "      <td>3.500000</td>\n",
       "      <td>0.000000</td>\n",
       "      <td>0.000000</td>\n",
       "      <td>0.000000</td>\n",
       "      <td>...</td>\n",
       "      <td>0.000000</td>\n",
       "      <td>0.000000</td>\n",
       "      <td>0.000000</td>\n",
       "      <td>0.000000</td>\n",
       "      <td>0.000000</td>\n",
       "      <td>0.000000</td>\n",
       "      <td>0.000000</td>\n",
       "      <td>10.000000</td>\n",
       "      <td>0.000000</td>\n",
       "      <td>0.0</td>\n",
       "    </tr>\n",
       "    <tr>\n",
       "      <th>50%</th>\n",
       "      <td>22.000000</td>\n",
       "      <td>2012.000000</td>\n",
       "      <td>20.000000</td>\n",
       "      <td>4.000000</td>\n",
       "      <td>5.000000</td>\n",
       "      <td>1.000000</td>\n",
       "      <td>3.920000</td>\n",
       "      <td>0.000000</td>\n",
       "      <td>0.000000</td>\n",
       "      <td>0.000000</td>\n",
       "      <td>...</td>\n",
       "      <td>0.000000</td>\n",
       "      <td>0.000000</td>\n",
       "      <td>0.000000</td>\n",
       "      <td>0.000000</td>\n",
       "      <td>0.000000</td>\n",
       "      <td>0.000000</td>\n",
       "      <td>0.000000</td>\n",
       "      <td>41.000000</td>\n",
       "      <td>0.000000</td>\n",
       "      <td>0.0</td>\n",
       "    </tr>\n",
       "    <tr>\n",
       "      <th>75%</th>\n",
       "      <td>55.000000</td>\n",
       "      <td>2014.000000</td>\n",
       "      <td>61.000000</td>\n",
       "      <td>14.000000</td>\n",
       "      <td>18.000000</td>\n",
       "      <td>2.000000</td>\n",
       "      <td>4.310000</td>\n",
       "      <td>0.000000</td>\n",
       "      <td>0.000000</td>\n",
       "      <td>0.000000</td>\n",
       "      <td>...</td>\n",
       "      <td>0.000000</td>\n",
       "      <td>1.000000</td>\n",
       "      <td>2.000000</td>\n",
       "      <td>1.000000</td>\n",
       "      <td>1.000000</td>\n",
       "      <td>1.000000</td>\n",
       "      <td>0.000000</td>\n",
       "      <td>118.000000</td>\n",
       "      <td>0.000000</td>\n",
       "      <td>0.0</td>\n",
       "    </tr>\n",
       "    <tr>\n",
       "      <th>max</th>\n",
       "      <td>543.000000</td>\n",
       "      <td>2019.000000</td>\n",
       "      <td>907.000000</td>\n",
       "      <td>475.000000</td>\n",
       "      <td>391.000000</td>\n",
       "      <td>34.000000</td>\n",
       "      <td>5.000000</td>\n",
       "      <td>56.000000</td>\n",
       "      <td>11.000000</td>\n",
       "      <td>7.000000</td>\n",
       "      <td>...</td>\n",
       "      <td>5.000000</td>\n",
       "      <td>49.000000</td>\n",
       "      <td>82.000000</td>\n",
       "      <td>66.000000</td>\n",
       "      <td>66.000000</td>\n",
       "      <td>38.000000</td>\n",
       "      <td>41.000000</td>\n",
       "      <td>1224.000000</td>\n",
       "      <td>6.000000</td>\n",
       "      <td>0.0</td>\n",
       "    </tr>\n",
       "  </tbody>\n",
       "</table>\n",
       "<p>8 rows × 21 columns</p>\n",
       "</div>"
      ],
      "text/plain": [
       "       review_count  yelping_since        useful         funny          cool  \\\n",
       "count  44716.000000   44716.000000  44716.000000  44716.000000  44716.000000   \n",
       "mean      44.073307    2012.007223     52.202321     14.206727     17.860810   \n",
       "std       57.080594       2.468963     80.420490     28.535983     32.840054   \n",
       "min        1.000000    2004.000000      0.000000      0.000000      0.000000   \n",
       "25%        9.000000    2010.000000      6.000000      1.000000      1.000000   \n",
       "50%       22.000000    2012.000000     20.000000      4.000000      5.000000   \n",
       "75%       55.000000    2014.000000     61.000000     14.000000     18.000000   \n",
       "max      543.000000    2019.000000    907.000000    475.000000    391.000000   \n",
       "\n",
       "               fans  average_stars  compliment_hot  compliment_more  \\\n",
       "count  44716.000000   44716.000000    44716.000000     44716.000000   \n",
       "mean       1.895451       3.848508        0.809688         0.385634   \n",
       "std        3.303982       0.709056        2.535749         0.930843   \n",
       "min        0.000000       1.000000        0.000000         0.000000   \n",
       "25%        0.000000       3.500000        0.000000         0.000000   \n",
       "50%        1.000000       3.920000        0.000000         0.000000   \n",
       "75%        2.000000       4.310000        0.000000         0.000000   \n",
       "max       34.000000       5.000000       56.000000        11.000000   \n",
       "\n",
       "       compliment_profile  ...  compliment_list  compliment_note  \\\n",
       "count        44716.000000  ...     44716.000000     44716.000000   \n",
       "mean             0.106181  ...         0.020731         1.277865   \n",
       "std              0.411287  ...         0.188912         2.777630   \n",
       "min              0.000000  ...         0.000000         0.000000   \n",
       "25%              0.000000  ...         0.000000         0.000000   \n",
       "50%              0.000000  ...         0.000000         0.000000   \n",
       "75%              0.000000  ...         0.000000         1.000000   \n",
       "max              7.000000  ...         5.000000        49.000000   \n",
       "\n",
       "       compliment_plain  compliment_cool  compliment_funny  compliment_writer  \\\n",
       "count      44716.000000     44716.000000      44716.000000       44716.000000   \n",
       "mean           1.571317         1.468557          1.468557           0.882413   \n",
       "std            3.709125         3.764833          3.764833           2.311810   \n",
       "min            0.000000         0.000000          0.000000           0.000000   \n",
       "25%            0.000000         0.000000          0.000000           0.000000   \n",
       "50%            0.000000         0.000000          0.000000           0.000000   \n",
       "75%            2.000000         1.000000          1.000000           1.000000   \n",
       "max           82.000000        66.000000         66.000000          38.000000   \n",
       "\n",
       "       compliment_photos   num_friends   times_elite  clusters  \n",
       "count       44716.000000  44716.000000  44716.000000   44716.0  \n",
       "mean            0.337351     89.667971      0.331112       0.0  \n",
       "std             1.232223    127.620606      1.044996       0.0  \n",
       "min             0.000000      1.000000      0.000000       0.0  \n",
       "25%             0.000000     10.000000      0.000000       0.0  \n",
       "50%             0.000000     41.000000      0.000000       0.0  \n",
       "75%             0.000000    118.000000      0.000000       0.0  \n",
       "max            41.000000   1224.000000      6.000000       0.0  \n",
       "\n",
       "[8 rows x 21 columns]"
      ]
     },
     "execution_count": 22,
     "metadata": {},
     "output_type": "execute_result"
    }
   ],
   "source": [
    "df_final[df_final['clusters']==0].describe()"
   ]
  },
  {
   "cell_type": "markdown",
   "id": "e726724b",
   "metadata": {},
   "source": [
    "#### Evaluation of class 1 type of users"
   ]
  },
  {
   "cell_type": "code",
   "execution_count": 23,
   "id": "878feebc",
   "metadata": {},
   "outputs": [
    {
     "data": {
      "text/html": [
       "<div>\n",
       "<style scoped>\n",
       "    .dataframe tbody tr th:only-of-type {\n",
       "        vertical-align: middle;\n",
       "    }\n",
       "\n",
       "    .dataframe tbody tr th {\n",
       "        vertical-align: top;\n",
       "    }\n",
       "\n",
       "    .dataframe thead th {\n",
       "        text-align: right;\n",
       "    }\n",
       "</style>\n",
       "<table border=\"1\" class=\"dataframe\">\n",
       "  <thead>\n",
       "    <tr style=\"text-align: right;\">\n",
       "      <th></th>\n",
       "      <th>review_count</th>\n",
       "      <th>yelping_since</th>\n",
       "      <th>useful</th>\n",
       "      <th>funny</th>\n",
       "      <th>cool</th>\n",
       "      <th>fans</th>\n",
       "      <th>average_stars</th>\n",
       "      <th>compliment_hot</th>\n",
       "      <th>compliment_more</th>\n",
       "      <th>compliment_profile</th>\n",
       "      <th>...</th>\n",
       "      <th>compliment_list</th>\n",
       "      <th>compliment_note</th>\n",
       "      <th>compliment_plain</th>\n",
       "      <th>compliment_cool</th>\n",
       "      <th>compliment_funny</th>\n",
       "      <th>compliment_writer</th>\n",
       "      <th>compliment_photos</th>\n",
       "      <th>num_friends</th>\n",
       "      <th>times_elite</th>\n",
       "      <th>clusters</th>\n",
       "    </tr>\n",
       "  </thead>\n",
       "  <tbody>\n",
       "    <tr>\n",
       "      <th>count</th>\n",
       "      <td>182.000000</td>\n",
       "      <td>182.000000</td>\n",
       "      <td>182.000000</td>\n",
       "      <td>182.000000</td>\n",
       "      <td>182.000000</td>\n",
       "      <td>182.000000</td>\n",
       "      <td>182.000000</td>\n",
       "      <td>182.000000</td>\n",
       "      <td>182.000000</td>\n",
       "      <td>182.000000</td>\n",
       "      <td>...</td>\n",
       "      <td>182.000000</td>\n",
       "      <td>182.000000</td>\n",
       "      <td>182.000000</td>\n",
       "      <td>182.000000</td>\n",
       "      <td>182.000000</td>\n",
       "      <td>182.000000</td>\n",
       "      <td>182.000000</td>\n",
       "      <td>182.000000</td>\n",
       "      <td>182.000000</td>\n",
       "      <td>182.0</td>\n",
       "    </tr>\n",
       "    <tr>\n",
       "      <th>mean</th>\n",
       "      <td>251.038462</td>\n",
       "      <td>2011.714286</td>\n",
       "      <td>298.401099</td>\n",
       "      <td>69.472527</td>\n",
       "      <td>121.582418</td>\n",
       "      <td>11.467033</td>\n",
       "      <td>3.928791</td>\n",
       "      <td>4.423077</td>\n",
       "      <td>1.598901</td>\n",
       "      <td>0.703297</td>\n",
       "      <td>...</td>\n",
       "      <td>0.032967</td>\n",
       "      <td>8.686813</td>\n",
       "      <td>10.395604</td>\n",
       "      <td>10.598901</td>\n",
       "      <td>10.598901</td>\n",
       "      <td>6.296703</td>\n",
       "      <td>2.648352</td>\n",
       "      <td>78.329670</td>\n",
       "      <td>7.291209</td>\n",
       "      <td>1.0</td>\n",
       "    </tr>\n",
       "    <tr>\n",
       "      <th>std</th>\n",
       "      <td>64.250491</td>\n",
       "      <td>1.528989</td>\n",
       "      <td>105.536507</td>\n",
       "      <td>40.175813</td>\n",
       "      <td>55.846488</td>\n",
       "      <td>5.706109</td>\n",
       "      <td>0.309279</td>\n",
       "      <td>4.825361</td>\n",
       "      <td>1.638150</td>\n",
       "      <td>1.102428</td>\n",
       "      <td>...</td>\n",
       "      <td>0.207620</td>\n",
       "      <td>7.218434</td>\n",
       "      <td>6.689448</td>\n",
       "      <td>8.159230</td>\n",
       "      <td>8.159230</td>\n",
       "      <td>5.217892</td>\n",
       "      <td>3.018813</td>\n",
       "      <td>50.226461</td>\n",
       "      <td>0.455573</td>\n",
       "      <td>0.0</td>\n",
       "    </tr>\n",
       "    <tr>\n",
       "      <th>min</th>\n",
       "      <td>124.000000</td>\n",
       "      <td>2008.000000</td>\n",
       "      <td>114.000000</td>\n",
       "      <td>15.000000</td>\n",
       "      <td>29.000000</td>\n",
       "      <td>0.000000</td>\n",
       "      <td>3.050000</td>\n",
       "      <td>0.000000</td>\n",
       "      <td>0.000000</td>\n",
       "      <td>0.000000</td>\n",
       "      <td>...</td>\n",
       "      <td>0.000000</td>\n",
       "      <td>1.000000</td>\n",
       "      <td>0.000000</td>\n",
       "      <td>0.000000</td>\n",
       "      <td>0.000000</td>\n",
       "      <td>0.000000</td>\n",
       "      <td>0.000000</td>\n",
       "      <td>4.000000</td>\n",
       "      <td>7.000000</td>\n",
       "      <td>1.0</td>\n",
       "    </tr>\n",
       "    <tr>\n",
       "      <th>25%</th>\n",
       "      <td>203.250000</td>\n",
       "      <td>2011.000000</td>\n",
       "      <td>221.000000</td>\n",
       "      <td>42.000000</td>\n",
       "      <td>83.000000</td>\n",
       "      <td>7.000000</td>\n",
       "      <td>3.720000</td>\n",
       "      <td>1.000000</td>\n",
       "      <td>0.000000</td>\n",
       "      <td>0.000000</td>\n",
       "      <td>...</td>\n",
       "      <td>0.000000</td>\n",
       "      <td>4.000000</td>\n",
       "      <td>6.000000</td>\n",
       "      <td>4.000000</td>\n",
       "      <td>4.000000</td>\n",
       "      <td>2.000000</td>\n",
       "      <td>1.000000</td>\n",
       "      <td>38.250000</td>\n",
       "      <td>7.000000</td>\n",
       "      <td>1.0</td>\n",
       "    </tr>\n",
       "    <tr>\n",
       "      <th>50%</th>\n",
       "      <td>247.500000</td>\n",
       "      <td>2012.000000</td>\n",
       "      <td>291.000000</td>\n",
       "      <td>59.000000</td>\n",
       "      <td>112.000000</td>\n",
       "      <td>11.000000</td>\n",
       "      <td>3.920000</td>\n",
       "      <td>3.000000</td>\n",
       "      <td>1.000000</td>\n",
       "      <td>0.000000</td>\n",
       "      <td>...</td>\n",
       "      <td>0.000000</td>\n",
       "      <td>6.000000</td>\n",
       "      <td>9.000000</td>\n",
       "      <td>8.000000</td>\n",
       "      <td>8.000000</td>\n",
       "      <td>5.000000</td>\n",
       "      <td>2.000000</td>\n",
       "      <td>71.000000</td>\n",
       "      <td>7.000000</td>\n",
       "      <td>1.0</td>\n",
       "    </tr>\n",
       "    <tr>\n",
       "      <th>75%</th>\n",
       "      <td>300.750000</td>\n",
       "      <td>2013.000000</td>\n",
       "      <td>354.750000</td>\n",
       "      <td>90.000000</td>\n",
       "      <td>149.000000</td>\n",
       "      <td>15.000000</td>\n",
       "      <td>4.125000</td>\n",
       "      <td>6.000000</td>\n",
       "      <td>2.000000</td>\n",
       "      <td>1.000000</td>\n",
       "      <td>...</td>\n",
       "      <td>0.000000</td>\n",
       "      <td>12.000000</td>\n",
       "      <td>13.000000</td>\n",
       "      <td>16.000000</td>\n",
       "      <td>16.000000</td>\n",
       "      <td>9.000000</td>\n",
       "      <td>4.000000</td>\n",
       "      <td>107.750000</td>\n",
       "      <td>8.000000</td>\n",
       "      <td>1.0</td>\n",
       "    </tr>\n",
       "    <tr>\n",
       "      <th>max</th>\n",
       "      <td>404.000000</td>\n",
       "      <td>2015.000000</td>\n",
       "      <td>645.000000</td>\n",
       "      <td>222.000000</td>\n",
       "      <td>357.000000</td>\n",
       "      <td>29.000000</td>\n",
       "      <td>4.690000</td>\n",
       "      <td>21.000000</td>\n",
       "      <td>8.000000</td>\n",
       "      <td>6.000000</td>\n",
       "      <td>...</td>\n",
       "      <td>2.000000</td>\n",
       "      <td>36.000000</td>\n",
       "      <td>39.000000</td>\n",
       "      <td>34.000000</td>\n",
       "      <td>34.000000</td>\n",
       "      <td>27.000000</td>\n",
       "      <td>16.000000</td>\n",
       "      <td>214.000000</td>\n",
       "      <td>8.000000</td>\n",
       "      <td>1.0</td>\n",
       "    </tr>\n",
       "  </tbody>\n",
       "</table>\n",
       "<p>8 rows × 21 columns</p>\n",
       "</div>"
      ],
      "text/plain": [
       "       review_count  yelping_since      useful       funny        cool  \\\n",
       "count    182.000000     182.000000  182.000000  182.000000  182.000000   \n",
       "mean     251.038462    2011.714286  298.401099   69.472527  121.582418   \n",
       "std       64.250491       1.528989  105.536507   40.175813   55.846488   \n",
       "min      124.000000    2008.000000  114.000000   15.000000   29.000000   \n",
       "25%      203.250000    2011.000000  221.000000   42.000000   83.000000   \n",
       "50%      247.500000    2012.000000  291.000000   59.000000  112.000000   \n",
       "75%      300.750000    2013.000000  354.750000   90.000000  149.000000   \n",
       "max      404.000000    2015.000000  645.000000  222.000000  357.000000   \n",
       "\n",
       "             fans  average_stars  compliment_hot  compliment_more  \\\n",
       "count  182.000000     182.000000      182.000000       182.000000   \n",
       "mean    11.467033       3.928791        4.423077         1.598901   \n",
       "std      5.706109       0.309279        4.825361         1.638150   \n",
       "min      0.000000       3.050000        0.000000         0.000000   \n",
       "25%      7.000000       3.720000        1.000000         0.000000   \n",
       "50%     11.000000       3.920000        3.000000         1.000000   \n",
       "75%     15.000000       4.125000        6.000000         2.000000   \n",
       "max     29.000000       4.690000       21.000000         8.000000   \n",
       "\n",
       "       compliment_profile  ...  compliment_list  compliment_note  \\\n",
       "count          182.000000  ...       182.000000       182.000000   \n",
       "mean             0.703297  ...         0.032967         8.686813   \n",
       "std              1.102428  ...         0.207620         7.218434   \n",
       "min              0.000000  ...         0.000000         1.000000   \n",
       "25%              0.000000  ...         0.000000         4.000000   \n",
       "50%              0.000000  ...         0.000000         6.000000   \n",
       "75%              1.000000  ...         0.000000        12.000000   \n",
       "max              6.000000  ...         2.000000        36.000000   \n",
       "\n",
       "       compliment_plain  compliment_cool  compliment_funny  compliment_writer  \\\n",
       "count        182.000000       182.000000        182.000000         182.000000   \n",
       "mean          10.395604        10.598901         10.598901           6.296703   \n",
       "std            6.689448         8.159230          8.159230           5.217892   \n",
       "min            0.000000         0.000000          0.000000           0.000000   \n",
       "25%            6.000000         4.000000          4.000000           2.000000   \n",
       "50%            9.000000         8.000000          8.000000           5.000000   \n",
       "75%           13.000000        16.000000         16.000000           9.000000   \n",
       "max           39.000000        34.000000         34.000000          27.000000   \n",
       "\n",
       "       compliment_photos  num_friends  times_elite  clusters  \n",
       "count         182.000000   182.000000   182.000000     182.0  \n",
       "mean            2.648352    78.329670     7.291209       1.0  \n",
       "std             3.018813    50.226461     0.455573       0.0  \n",
       "min             0.000000     4.000000     7.000000       1.0  \n",
       "25%             1.000000    38.250000     7.000000       1.0  \n",
       "50%             2.000000    71.000000     7.000000       1.0  \n",
       "75%             4.000000   107.750000     8.000000       1.0  \n",
       "max            16.000000   214.000000     8.000000       1.0  \n",
       "\n",
       "[8 rows x 21 columns]"
      ]
     },
     "execution_count": 23,
     "metadata": {},
     "output_type": "execute_result"
    }
   ],
   "source": [
    "df_final[df_final['clusters']==1].describe()"
   ]
  },
  {
   "cell_type": "markdown",
   "id": "0b2a5079",
   "metadata": {},
   "source": [
    "### Cluster Conclusion:"
   ]
  },
  {
   "cell_type": "markdown",
   "id": "6f13030d",
   "metadata": {},
   "source": [
    "We can see that the users of the cluster class 0 have the follow characteristics:\n",
    "\n",
    "    1.The number of reviews that group 0 creates are low comparing it to group 1, with a mean of total reviews written for group 0 of 44 reviews and a mean of reviews written by group 1 of 251. \n",
    "    2. The average amount of fans that group 0 users assign is reduce, with an average of approximatelly 1 fan in comparison with group 1 which we can see have more fans with an average of approximatelly 11.\n",
    "    3. They tend to get not a lot of compiments for their reviews comparing it with group 1 which tends to have more compliments by their followers.\n",
    "    4. The number of times that users from numb 1 cluster were elite is higher than the average amount of times that users from group 1 were elite.\n",
    "    \n",
    "We can infer that from both groups, group 1 is a important group as the number of reviews is high and also the number of times that this cluster was elite is higher. Therefore we can infer that this cluster of groups have a lot of ability to infer in other people in comparison with group 0."
   ]
  }
 ],
 "metadata": {
  "kernelspec": {
   "display_name": "yelp_env",
   "language": "python",
   "name": "yelp_env"
  },
  "language_info": {
   "codemirror_mode": {
    "name": "ipython",
    "version": 3
   },
   "file_extension": ".py",
   "mimetype": "text/x-python",
   "name": "python",
   "nbconvert_exporter": "python",
   "pygments_lexer": "ipython3",
   "version": "3.9.15"
  }
 },
 "nbformat": 4,
 "nbformat_minor": 5
}
