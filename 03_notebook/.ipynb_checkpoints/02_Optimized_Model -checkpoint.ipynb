{
 "cells": [
  {
   "cell_type": "markdown",
   "id": "b61fff99",
   "metadata": {},
   "source": [
    "# Optimized Model"
   ]
  },
  {
   "cell_type": "markdown",
   "id": "e2342c88",
   "metadata": {},
   "source": [
    "The model that was chosen to execute the optimization was the Logistic Regression. In this notebook we will look for the best hyperparameters that can immprove the performance of this model."
   ]
  },
  {
   "cell_type": "code",
   "execution_count": 1,
   "id": "1c73f7e3",
   "metadata": {},
   "outputs": [],
   "source": [
    "import pandas as pd\n",
    "import numpy as np\n",
    "import matplotlib.pyplot as plt\n",
    "from sklearn.linear_model import LogisticRegression\n",
    "from sklearn.model_selection import GridSearchCV\n",
    "from sklearn.metrics import classification_report, confusion_matrix, roc_curve, accuracy_score, auc,ConfusionMatrixDisplay,\\\n",
    "                            silhouette_score, recall_score, precision_score, make_scorer, \\\n",
    "                            roc_auc_score, f1_score, precision_recall_curve, fbeta_score, r2_score\n",
    "from datetime import datetime\n",
    "\n",
    "import pickle\n",
    "import warnings\n",
    "warnings.filterwarnings('ignore')"
   ]
  },
  {
   "cell_type": "code",
   "execution_count": 2,
   "id": "e08fa9bf",
   "metadata": {},
   "outputs": [],
   "source": [
    "# Functions to be used\n",
    "def evaluate_model(yval, ypred, ypred_proba = None):\n",
    "    if ypred_proba is not None:\n",
    "        print('ROC-AUC score of the model: {}'.format(roc_auc_score(yval, ypred_proba[:, 1])))\n",
    "        print(f'\\nF2 Score: {fbeta_score(yval, ypred, beta=2, average=\"macro\")}\\n')\n",
    "        print(f'R2 Score: {r2_score(yval, ypred)}\\n')\n",
    "        print('Accuracy of the model: {}\\n'.format(accuracy_score(yval, ypred)))\n",
    "        print('Classification report: \\n{}\\n'.format(classification_report(yval, ypred)))\n",
    "        \n",
    "def cargar_modelo(ruta):\n",
    "    return pickle.load(open(ruta, 'rb'))\n",
    "\n",
    "def timer(start_time=None):\n",
    "    if not start_time:\n",
    "        start_time = datetime.now()\n",
    "        return start_time\n",
    "    elif start_time:\n",
    "        thour, temp_sec = divmod((datetime.now() - start_time).total_seconds(), 3600)\n",
    "        tmin, tsec = divmod(temp_sec, 60)\n",
    "        print('\\n Time taken: %i hours %i minutes and %s seconds.' % (thour, tmin, round(tsec, 2)))\n",
    "          \n",
    "def cargar_modelo(ruta):\n",
    "    return pickle.load(open(ruta, 'rb'))"
   ]
  },
  {
   "cell_type": "code",
   "execution_count": 3,
   "id": "2005432a",
   "metadata": {},
   "outputs": [],
   "source": [
    "# Import the different datasets\n",
    "x_train = cargar_modelo(\"../04_modelos/x_train.pickle\")\n",
    "y_train = cargar_modelo(\"../04_modelos/y_train.pickle\")\n",
    "x_test = cargar_modelo(\"../04_modelos/x_test.pickle\")\n",
    "y_test = cargar_modelo(\"../04_modelos/y_test.pickle\")"
   ]
  },
  {
   "cell_type": "markdown",
   "id": "3099464c",
   "metadata": {},
   "source": [
    "# Optimized Logistic Regression"
   ]
  },
  {
   "cell_type": "code",
   "execution_count": 4,
   "id": "b26eba75",
   "metadata": {},
   "outputs": [],
   "source": [
    "# Loading lightgbm model\n",
    "LR = cargar_modelo(\"../04_modelos/LR_model.pickle\")"
   ]
  },
  {
   "cell_type": "code",
   "execution_count": 5,
   "id": "0270c804",
   "metadata": {},
   "outputs": [],
   "source": [
    "LR = LogisticRegression()"
   ]
  },
  {
   "cell_type": "code",
   "execution_count": 6,
   "id": "dfdb338d",
   "metadata": {},
   "outputs": [],
   "source": [
    "param_grid = [\n",
    "    {'penalty' : ['l1', 'l2'],\n",
    "    'C' : np.logspace(-4, 4, 20),\n",
    "    'solver' : ['liblinear', 'sag', 'saga']}\n",
    "]\n",
    "\n",
    "CV = GridSearchCV(LR, param_grid = param_grid, cv = 5, verbose=True, n_jobs=-1)"
   ]
  },
  {
   "cell_type": "code",
   "execution_count": 7,
   "id": "e60f5263",
   "metadata": {},
   "outputs": [
    {
     "name": "stdout",
     "output_type": "stream",
     "text": [
      "Fitting 5 folds for each of 120 candidates, totalling 600 fits\n",
      "\n",
      " Time taken: 1 hours 47 minutes and 36.65 seconds.\n"
     ]
    }
   ],
   "source": [
    "# Fit + simple timer function to know how long things take\n",
    "start_time = timer(None) \n",
    "CV.fit(x_train, y_train)\n",
    "timer(start_time) "
   ]
  },
  {
   "cell_type": "code",
   "execution_count": 9,
   "id": "ac83f474",
   "metadata": {},
   "outputs": [],
   "source": [
    "# Saving our model as a pickle\n",
    "with open('../04_modelos/LR_optimized.pickle', 'wb') as f:\n",
    "    pickle.dump(CV, f)"
   ]
  },
  {
   "cell_type": "code",
   "execution_count": 10,
   "id": "66cfc48c",
   "metadata": {},
   "outputs": [
    {
     "name": "stdout",
     "output_type": "stream",
     "text": [
      "\n",
      " Best hyperparameters:\n",
      "{'C': 1.623776739188721, 'penalty': 'l2', 'solver': 'liblinear'}\n",
      "\n",
      " Best score:\n",
      "0.9703549060542798\n"
     ]
    }
   ],
   "source": [
    "# Best hyperparameters and scoring\n",
    "print('\\n Best hyperparameters:')\n",
    "print(CV.best_params_)\n",
    "print('\\n Best score:')\n",
    "print(CV.best_score_)"
   ]
  },
  {
   "cell_type": "code",
   "execution_count": 11,
   "id": "cbe3f771",
   "metadata": {},
   "outputs": [
    {
     "name": "stdout",
     "output_type": "stream",
     "text": [
      "ROC-AUC score of the model: 0.9919097710589384\n",
      "\n",
      "F2 Score: 0.9542276707209567\n",
      "\n",
      "R2 Score: 0.8286444231182652\n",
      "\n",
      "Accuracy of the model: 0.9728297523846228\n",
      "\n",
      "Classification report: \n",
      "              precision    recall  f1-score   support\n",
      "\n",
      "         1.0       0.94      0.92      0.93      2051\n",
      "         5.0       0.98      0.99      0.98      8328\n",
      "\n",
      "    accuracy                           0.97     10379\n",
      "   macro avg       0.96      0.95      0.96     10379\n",
      "weighted avg       0.97      0.97      0.97     10379\n",
      "\n",
      "\n"
     ]
    }
   ],
   "source": [
    "# Predictions and evaluation\n",
    "ypred = CV.predict(x_test)\n",
    "ypred_proba = CV.predict_proba(x_test)\n",
    "evaluate_model(y_test, ypred, ypred_proba)"
   ]
  },
  {
   "cell_type": "code",
   "execution_count": 12,
   "id": "adb9e048",
   "metadata": {},
   "outputs": [
    {
     "data": {
      "text/plain": [
       "Text(0.5, 1.0, 'Matriz normalizada del modelo Logistic Regression optimizado')"
      ]
     },
     "execution_count": 12,
     "metadata": {},
     "output_type": "execute_result"
    },
    {
     "data": {
      "image/png": "[encoded data removed]",
      "text/plain": [
       "<Figure size 700x700 with 2 Axes>"
      ]
     },
     "metadata": {},
     "output_type": "display_data"
    }
   ],
   "source": [
    "# Plotting optimized confusion matrix\n",
    "fig, ax = plt.subplots(figsize=(7, 7))\n",
    "disp = ConfusionMatrixDisplay.from_predictions(y_test, ypred,\n",
    "                                                       cmap=plt.cm.Greens,\n",
    "                                                       normalize='true',\n",
    "                                                       ax=ax)\n",
    "ax.set_title('Matriz normalizada del modelo Logistic Regression optimizado')"
   ]
  },
  {
   "cell_type": "markdown",
   "id": "28950449",
   "metadata": {},
   "source": [
    "### Conclusion"
   ]
  },
  {
   "cell_type": "markdown",
   "id": "64c9e36b",
   "metadata": {},
   "source": [
    "We can see that with the optimization our model improve in both accuracy and R2. The value of accuracy increased from the original model without optiimization from 96.50% to 97.27% after adjusting the hyperparameters. Also as mentioned, the R2 also improves from an original vallue of 77.94% in the model without optimization, to 82.80% after the hyperparameters.\n",
    "\n",
    "What we can take from this scores is that the model is going to correctly predict the 97.27% of the reviews correctly."
   ]
  }
 ],
 "metadata": {
  "kernelspec": {
   "display_name": "yelp_env",
   "language": "python",
   "name": "yelp_env"
  },
  "language_info": {
   "codemirror_mode": {
    "name": "ipython",
    "version": 3
   },
   "file_extension": ".py",
   "mimetype": "text/x-python",
   "name": "python",
   "nbconvert_exporter": "python",
   "pygments_lexer": "ipython3",
   "version": "3.9.15"
  }
 },
 "nbformat": 4,
 "nbformat_minor": 5
}
